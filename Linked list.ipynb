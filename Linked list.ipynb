{
 "cells": [
  {
   "cell_type": "markdown",
   "metadata": {},
   "source": [
    "# Linked list\n",
    "- every Node has 2 parts data and a pointer to the next Node"
   ]
  },
  {
   "cell_type": "markdown",
   "metadata": {},
   "source": [
    "## attributes \n",
    "\n",
    "### root - pointer to the beginibg of the list \n",
    "\n",
    "### size - number of nodes in the list"
   ]
  },
  {
   "cell_type": "markdown",
   "metadata": {},
   "source": [
    "## opreations:\n",
    "- find(data)\n",
    "- add(data)\n",
    "- remove(data)\n",
    "- print_list()"
   ]
  },
  {
   "cell_type": "markdown",
   "metadata": {},
   "source": [
    "# Node Class\n",
    "- Node class has a constructor that sets the data passed in , and optionally can set next_node and prev_node.\n",
    "- It also has a str method to give to a string representation for printing .\n",
    "- Notethat prev_node is only used for Doubly Linked Lists."
   ]
  },
  {
   "cell_type": "code",
   "execution_count": 3,
   "metadata": {},
   "outputs": [],
   "source": [
    "class Node:\n",
    "    \n",
    "    def __init__(self, d,n = None , p=None):\n",
    "        self.data = d\n",
    "        self.next_node = n\n",
    "        self.prev_node = p\n",
    "        \n",
    "    def __str__(self):\n",
    "        return('('+str(self.data)+\")\")\n",
    "    "
   ]
  },
  {
   "cell_type": "markdown",
   "metadata": {},
   "source": [
    "# LinkedList Class\n",
    "- A LinkedList object has two attributes : a root node that defaults to Node , and size thst defaults to 0.\n",
    "    \n",
    "### Add\n",
    "- add method receives a piece of data , creates a new Node , setting the root as its next_node , changes the LinkedList's root to the new node , and increments size.\n",
    "\n",
    "### Find \n",
    "- Find iterates through the node until it finds the data passed in , if it finds the data it will return it , otherwise None .\n",
    "\n",
    "### Remove \n",
    "- Remove needs pointers to this_node and prev_node . if it finds the data , it needs to check if it is in the root node (prev_node is None) before deciding how to bypass the deleted node.\n",
    "\n",
    "### Print_list\n",
    "- Print_list iterstes the list and prints each node .\n"
   ]
  },
  {
   "cell_type": "code",
   "execution_count": 27,
   "metadata": {},
   "outputs": [],
   "source": [
    "class LinkedList:\n",
    "    def __init__(self, r = None):\n",
    "        self.root =r \n",
    "        self.size = 0\n",
    "        \n",
    "    def add(self, d):\n",
    "        new_node = Node(d,self.root)\n",
    "        self.root = new_node\n",
    "        self.size +=1\n",
    "        \n",
    "    def find(self, d):\n",
    "        this_node = self.root\n",
    "        while this_node is not None:\n",
    "            if this_node.data == d:\n",
    "                return d\n",
    "            else :\n",
    "                this_node = this_node.next_node\n",
    "                \n",
    "        return None\n",
    "    def remove(self,d):\n",
    "        this_node = self.root\n",
    "        prev_node = None \n",
    "        \n",
    "        while this_node is not None :\n",
    "            if this_node.data == d:\n",
    "                if prev_node is not None: # data is in non - root\n",
    "                    prev_node.next_node = this_node.next_node\n",
    "                    \n",
    "                else : # data is in root node\n",
    "                    self.root = this_node.next_node\n",
    "                    \n",
    "                self.size-=1\n",
    "                return True\n",
    "            else :\n",
    "                prev_node = this_node\n",
    "                this_node = this_node.next_node\n",
    "                \n",
    "        return False # data not found\n",
    "        \n",
    "    def print_list(self):\n",
    "        this_node = self.root \n",
    "        while this_node is not None:\n",
    "            print(this_node,end='->')\n",
    "            this_node = this_node.next_node\n",
    "            \n",
    "        print('None')\n",
    "                    "
   ]
  },
  {
   "cell_type": "markdown",
   "metadata": {},
   "source": [
    "# linked list test code "
   ]
  },
  {
   "cell_type": "code",
   "execution_count": 28,
   "metadata": {},
   "outputs": [],
   "source": [
    "mylinkedlist = LinkedList()\n",
    "mylinkedlist.add(5)"
   ]
  },
  {
   "cell_type": "code",
   "execution_count": 29,
   "metadata": {},
   "outputs": [],
   "source": [
    "mylinkedlist.add(7)\n",
    "mylinkedlist.add(9)\n",
    "mylinkedlist.add(8)"
   ]
  },
  {
   "cell_type": "code",
   "execution_count": 30,
   "metadata": {},
   "outputs": [
    {
     "name": "stdout",
     "output_type": "stream",
     "text": [
      "(8)->(9)->(7)->(5)->None\n"
     ]
    }
   ],
   "source": [
    "mylinkedlist.print_list()"
   ]
  },
  {
   "cell_type": "code",
   "execution_count": 31,
   "metadata": {},
   "outputs": [
    {
     "data": {
      "text/plain": [
       "True"
      ]
     },
     "execution_count": 31,
     "metadata": {},
     "output_type": "execute_result"
    }
   ],
   "source": [
    "mylinkedlist.remove(9)"
   ]
  },
  {
   "cell_type": "markdown",
   "metadata": {},
   "source": [
    "# circular linked list \n",
    "## advantages over regular (singly) linked list\n",
    "- ideal for modeling continous looping objects, such as monopoly board or a race track"
   ]
  },
  {
   "cell_type": "markdown",
   "metadata": {},
   "source": [
    "# circular linked list \n",
    "- includes attributes root and size \n",
    "- includes methods add , find, remove, and print_list."
   ]
  },
  {
   "cell_type": "code",
   "execution_count": 41,
   "metadata": {},
   "outputs": [],
   "source": [
    "class CircularLinkedList:\n",
    "    \n",
    "    def __init__(self, r = None):\n",
    "        self.root = r\n",
    "        self.size = 0\n",
    "        \n",
    "    def add (self, d):\n",
    "        if self.size == 0:\n",
    "            self.root = Node(d)\n",
    "            self.root.next_node =self.root\n",
    "        else :\n",
    "            new_node = Node(d, self.root.next_node)\n",
    "            self.root.next_node = new_node\n",
    "        self.size +=1\n",
    "        \n",
    "    def find (self, d):\n",
    "        this_node = self.root\n",
    "        prev_node = None\n",
    "        \n",
    "        while True:\n",
    "            if this_node.data ==d : # found\n",
    "                return d\n",
    "            elif this_node.next_node == self.root:\n",
    "                return False\n",
    "            this_node = this_node.next_node\n",
    "            \n",
    "    def remove(self, d):\n",
    "        this_node = self.root\n",
    "        prev_node =None\n",
    "        \n",
    "        while True:\n",
    "            if this_node.data == d: # found \n",
    "                if prev_node is not None : \n",
    "                    prev_node.next_node =this_node.next_node\n",
    "                else: \n",
    "                    while this_node.n != self.root:\n",
    "                        this_node = this_node.next_node\n",
    "                    this_node.next_node = self.root.next_node\n",
    "                    self.root = self.root.next_node\n",
    "                self.size -=1\n",
    "                return True\n",
    "            elif this_node.next_node == self.root:\n",
    "                return False\n",
    "                \n",
    "            prev_node = this_node\n",
    "            this_node =this_node.next_node\n",
    "            \n",
    "        \n",
    "    def print_list(self):\n",
    "        if self.root is None :\n",
    "            return\n",
    "        \n",
    "        this_node = self.root\n",
    "        print (this_node ,end =\"->\")\n",
    "        while this_node.next_node != self.root:\n",
    "            this_node = this_node.next_node\n",
    "            print(this_node,end =\"->\")\n",
    "            \n",
    "        print()\n",
    "        \n",
    "    \n",
    "    "
   ]
  },
  {
   "cell_type": "code",
   "execution_count": 42,
   "metadata": {},
   "outputs": [],
   "source": [
    "cll =CircularLinkedList()"
   ]
  },
  {
   "cell_type": "code",
   "execution_count": 43,
   "metadata": {},
   "outputs": [],
   "source": [
    "for i in [1,3,4,5,6,7]:\n",
    "    cll.add(i)"
   ]
  },
  {
   "cell_type": "code",
   "execution_count": 44,
   "metadata": {},
   "outputs": [
    {
     "name": "stdout",
     "output_type": "stream",
     "text": [
      "(1)->(7)->(6)->(5)->(4)->(3)->\n"
     ]
    }
   ],
   "source": [
    "cll.print_list()"
   ]
  },
  {
   "cell_type": "code",
   "execution_count": 45,
   "metadata": {},
   "outputs": [
    {
     "name": "stdout",
     "output_type": "stream",
     "text": [
      "size=6\n"
     ]
    }
   ],
   "source": [
    "print(\"size=\"+str(cll.size))"
   ]
  },
  {
   "cell_type": "code",
   "execution_count": 46,
   "metadata": {},
   "outputs": [
    {
     "name": "stdout",
     "output_type": "stream",
     "text": [
      "4\n"
     ]
    }
   ],
   "source": [
    "print(cll.find(4))"
   ]
  },
  {
   "cell_type": "code",
   "execution_count": 48,
   "metadata": {},
   "outputs": [
    {
     "name": "stdout",
     "output_type": "stream",
     "text": [
      "(1)->(7)->(6)->(5)->(4)->(3)->(1)->(7)->(6)->\n"
     ]
    }
   ],
   "source": [
    "my_node = cll.root\n",
    "print (my_node, end='->')\n",
    "for i in range(8):\n",
    "    my_node = my_node.next_node\n",
    "    print (my_node, end='->')\n",
    "print()"
   ]
  },
  {
   "cell_type": "markdown",
   "metadata": {},
   "source": [
    "# Doubly Linked List \n",
    "- Every node has 3 parts data and pointers to previous and next Nodes\n",
    "\n",
    "## Advantages \n",
    "- can iterate the list in either direction\n",
    "- can delete a node without itersting through the list (if given a pointer to the node)\n"
   ]
  },
  {
   "cell_type": "markdown",
   "metadata": {},
   "source": [
    "# doubly linked list implementation"
   ]
  },
  {
   "cell_type": "code",
   "execution_count": 31,
   "metadata": {},
   "outputs": [],
   "source": [
    "class DoublyLinkedList:\n",
    "    \n",
    "    def __init__(self, r =None):\n",
    "        self.root = r\n",
    "        self.last = r\n",
    "        self.size = 0\n",
    "        \n",
    "    def add(self,d):\n",
    "        if self.size == 0:\n",
    "            self.root = Node(d)\n",
    "            self.last = self.root\n",
    "        else :\n",
    "            new_node =Node(d, self.root)\n",
    "            self.root.prev_node = new_node\n",
    "            self.root =new_node\n",
    "        self.size +=1\n",
    "        \n",
    "    def find(self, d):\n",
    "        this_node = self.root \n",
    "        while this_node is not None:\n",
    "            if this_node.data == d:\n",
    "                return d\n",
    "            elif this_node.next_node == None:\n",
    "                return False\n",
    "            else :\n",
    "                this_node = this_node.next_node\n",
    "                \n",
    "    def remove(self,d):\n",
    "        this_node = self.root\n",
    "        while this_node is not None:\n",
    "            if this_node.data == d:\n",
    "                if this_node.prev_node is not None:\n",
    "                    if this_node.next_node is not None : # delete middle node\n",
    "                        this_node.prev_node.next_node = this_node.next_node\n",
    "                        this_node.next_node.prev_node = this_node.prev_node\n",
    "                    else : # delete last node\n",
    "                        this_node.prev_node.next_node =None\n",
    "                        self.last = this_node.prev_node\n",
    "                    \n",
    "                else: # delete root node\n",
    "                    self.root = this_node.next_node\n",
    "                    this_node.next_node.prev_node = self.root\n",
    "                self.size -= 1\n",
    "                return True # data removed\n",
    "            else:\n",
    "                this_node = this_node.next_node\n",
    "        return False # data not found\n",
    "        \n",
    "    def print_list(self):\n",
    "        if self.root is None:\n",
    "            return \n",
    "        this_node =self.root\n",
    "        print(this_node, end=\"->\")\n",
    "        while this_node.next_node is not None:\n",
    "            this_node = this_node.next_node\n",
    "            print(this_node, end=\"->\")\n",
    "        print()\n",
    "            \n",
    "            \n",
    "                \n",
    "                    \n",
    "            "
   ]
  },
  {
   "cell_type": "code",
   "execution_count": 36,
   "metadata": {},
   "outputs": [
    {
     "name": "stdout",
     "output_type": "stream",
     "text": [
      "size=5\n",
      "(9)->(8)->(3)->(9)->(5)->\n",
      "size=4\n"
     ]
    }
   ],
   "source": [
    "dll = DoublyLinkedList()\n",
    "for i in [5, 9, 3, 8, 9]:\n",
    "    dll.add(i)\n",
    "\n",
    "print(\"size=\"+str(dll.size))\n",
    "dll.print_list()\n",
    "dll.remove(9)\n",
    "print(\"size=\"+str(dll.size))"
   ]
  },
  {
   "cell_type": "code",
   "execution_count": 37,
   "metadata": {},
   "outputs": [
    {
     "name": "stdout",
     "output_type": "stream",
     "text": [
      "(8)->(3)->(9)->(5)->\n"
     ]
    }
   ],
   "source": [
    "dll.print_list()"
   ]
  },
  {
   "cell_type": "code",
   "execution_count": 38,
   "metadata": {},
   "outputs": [
    {
     "name": "stdout",
     "output_type": "stream",
     "text": [
      "False\n",
      "False\n",
      "(22)->(21)->(8)->(3)->(9)->\n",
      "(3)\n"
     ]
    }
   ],
   "source": [
    "print(dll.remove(15))\n",
    "print(dll.find(15))\n",
    "dll.add(21)\n",
    "dll.add(22)\n",
    "dll.remove(5)\n",
    "dll.print_list()\n",
    "print(dll.last.prev_node)\n"
   ]
  },
  {
   "cell_type": "code",
   "execution_count": null,
   "metadata": {},
   "outputs": [],
   "source": []
  }
 ],
 "metadata": {
  "kernelspec": {
   "display_name": "Python 3",
   "language": "python",
   "name": "python3"
  },
  "language_info": {
   "codemirror_mode": {
    "name": "ipython",
    "version": 3
   },
   "file_extension": ".py",
   "mimetype": "text/x-python",
   "name": "python",
   "nbconvert_exporter": "python",
   "pygments_lexer": "ipython3",
   "version": "3.7.4"
  }
 },
 "nbformat": 4,
 "nbformat_minor": 2
}
