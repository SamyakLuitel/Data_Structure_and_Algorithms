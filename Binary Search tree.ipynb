{
 "cells": [
  {
   "cell_type": "markdown",
   "metadata": {},
   "source": [
    "# Binary Search tree\n",
    "- each node is greater than every node in its left subtree\n",
    "- each node is less than every node in its right subtree\n",
    "\n",
    "## BST operations \n",
    "- insert \n",
    "- find \n",
    "- delete\n",
    "- get_size\n",
    "- traversals\n",
    "\n",
    "## BST Insert \n",
    "- start at root \n",
    "- Always insert as a leaf\n",
    "\n",
    "## BST Find \n",
    "- Start at root \n",
    "- return data if found , or fallse if not found\n",
    "\n",
    "## BST Delete \n",
    "#### 3 possible cases\n",
    "- leaf node \n",
    "- 1 child \n",
    "- 2 child\n",
    "\n",
    "## Get_size\n",
    "- returns number of nodes \n",
    "- works recursively\n",
    "\n",
    "## Traversal \n",
    "- preorder traversal\n",
    "- inorder traversal\n"
   ]
  },
  {
   "cell_type": "markdown",
   "metadata": {},
   "source": [
    "# Binary Search Tree\n",
    "## constructor \n",
    " - sets three atributes: data , left subtree and right subtree\n",
    " \n",
    "## Insert \n",
    " - insert a new subtree into the proper location \n",
    " \n",
    "## Find \n",
    "- finds a value. IF value not found , returns False \n",
    "\n",
    "## Get_size \n",
    "- returns the numbe of nodes in the tree (excluding None nodes)\n",
    "\n",
    "## Preorder \n",
    "- prints a preorder traversal of tree\n",
    "\n",
    "## Inorder \n",
    "- prints an inorder traversal of the tree\n",
    "\n"
   ]
  },
  {
   "cell_type": "code",
   "execution_count": 40,
   "metadata": {},
   "outputs": [],
   "source": [
    "class Tree:\n",
    "    def __init__(self , data , left = None , right = None):\n",
    "        self.data = data \n",
    "        self.left  = left \n",
    "        self.right = right \n",
    "        \n",
    "    def insert(self , data ):\n",
    "        if self.data == data:\n",
    "            return False # duplicate value \n",
    "        elif self.data > data:\n",
    "            if self.left is not None:\n",
    "                return self.left.insert(data)\n",
    "            else :\n",
    "                self.left = Tree(data)\n",
    "                return True \n",
    "        else :\n",
    "            if self.right is not None :\n",
    "                return self.right.insert(data)\n",
    "            else :\n",
    "                self.right = Tree(data)\n",
    "                return True \n",
    "            \n",
    "    def find (self, data ):\n",
    "        if self.data == data :\n",
    "            return data \n",
    "        elif self.data > data :\n",
    "            \n",
    "            if self.left is None:\n",
    "                return False\n",
    "            else:\n",
    "                return self.left.find(data)\n",
    "        elif self.data < data :\n",
    "            if self.right is None :\n",
    "                return False \n",
    "            else :\n",
    "                 return self.right.find(data)\n",
    "                \n",
    "    def get_size(self):\n",
    "        if self.left is not None and self.right is not None :\n",
    "            return 1 + self.left.get_size() + self.right.get_size()\n",
    "        elif self.left:\n",
    "            return 1 + self.left.get_size()\n",
    "        elif self.right:\n",
    "            return 1 + self.right.get_size()\n",
    "        else :\n",
    "            return 1\n",
    "        \n",
    "    def preorder(self):\n",
    "        if self is not None :\n",
    "            print (self.data, end = \" \")\n",
    "            if self.left is not None:\n",
    "                self.left.preorder()\n",
    "            if self.right:\n",
    "                self.right.preorder()\n",
    "                \n",
    "    def inorder(self):\n",
    "        if self is not None :\n",
    "            if self.left is not None:\n",
    "                self.left.inorder()\n",
    "            print(self.data,end = \" \")\n",
    "            if self.right is not None:\n",
    "                self.right.inorder()\n",
    "            \n",
    " \n",
    "        "
   ]
  },
  {
   "cell_type": "markdown",
   "metadata": {},
   "source": [
    "# test Code \n"
   ]
  },
  {
   "cell_type": "code",
   "execution_count": 41,
   "metadata": {},
   "outputs": [],
   "source": [
    "tree = Tree(3)"
   ]
  },
  {
   "cell_type": "code",
   "execution_count": 42,
   "metadata": {},
   "outputs": [
    {
     "data": {
      "text/plain": [
       "True"
      ]
     },
     "execution_count": 42,
     "metadata": {},
     "output_type": "execute_result"
    }
   ],
   "source": [
    "tree.insert(9)"
   ]
  },
  {
   "cell_type": "code",
   "execution_count": 43,
   "metadata": {},
   "outputs": [
    {
     "name": "stdout",
     "output_type": "stream",
     "text": [
      "False 1 2 3 4 False 6 False False 9 10 11 12 13 14 15 \n",
      " 12\n"
     ]
    }
   ],
   "source": [
    "for i in [15, 10, 2, 12, 3, 1, 13, 6, 11, 4, 14, 9]:\n",
    "    tree.insert(i)\n",
    "for i in range(16):\n",
    "    print(tree.find(i), end = \" \")\n",
    "print (\"\\n\", tree.get_size())"
   ]
  },
  {
   "cell_type": "code",
   "execution_count": 45,
   "metadata": {},
   "outputs": [
    {
     "name": "stdout",
     "output_type": "stream",
     "text": [
      "3 2 1 9 6 4 15 10 12 11 13 14 "
     ]
    }
   ],
   "source": [
    "tree.preorder()\n",
    "\n"
   ]
  },
  {
   "cell_type": "code",
   "execution_count": 46,
   "metadata": {},
   "outputs": [
    {
     "name": "stdout",
     "output_type": "stream",
     "text": [
      "1 2 3 4 6 9 10 11 12 13 14 15 "
     ]
    }
   ],
   "source": [
    "tree.inorder()\n"
   ]
  },
  {
   "cell_type": "code",
   "execution_count": null,
   "metadata": {},
   "outputs": [],
   "source": []
  }
 ],
 "metadata": {
  "kernelspec": {
   "display_name": "Python 3",
   "language": "python",
   "name": "python3"
  },
  "language_info": {
   "codemirror_mode": {
    "name": "ipython",
    "version": 3
   },
   "file_extension": ".py",
   "mimetype": "text/x-python",
   "name": "python",
   "nbconvert_exporter": "python",
   "pygments_lexer": "ipython3",
   "version": "3.7.4"
  }
 },
 "nbformat": 4,
 "nbformat_minor": 2
}
