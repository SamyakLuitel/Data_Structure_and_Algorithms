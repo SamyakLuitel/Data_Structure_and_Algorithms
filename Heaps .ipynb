{
 "cells": [
  {
   "cell_type": "markdown",
   "metadata": {},
   "source": [
    "# Heaps "
   ]
  },
  {
   "cell_type": "markdown",
   "metadata": {},
   "source": [
    "## What is max Heap?\n",
    "-comple Binary tree\n",
    "- every node <= its parent"
   ]
  },
  {
   "cell_type": "markdown",
   "metadata": {},
   "source": [
    "## max Heap is FAST!\n",
    "- Insert in O(log n)\n",
    "- get max in O(1)\n",
    "- remove Max in O(logn)"
   ]
  },
  {
   "cell_type": "markdown",
   "metadata": {},
   "source": [
    "## easy to implement using list"
   ]
  },
  {
   "cell_type": "markdown",
   "metadata": {},
   "source": [
    "# Max heap Operations\n",
    "- push(insert)\n",
    "- peek (get max)\n",
    "- pop(remove max)\n"
   ]
  },
  {
   "cell_type": "markdown",
   "metadata": {},
   "source": [
    "# Push \n",
    "- add value to the end of array\n",
    "- bubble it up to its proper position"
   ]
  },
  {
   "cell_type": "markdown",
   "metadata": {},
   "source": [
    "# Peek\n",
    "- return the value at heap[root index]"
   ]
  },
  {
   "cell_type": "markdown",
   "metadata": {},
   "source": [
    "# Pop\n",
    "- move max to end of array\n",
    "- delete it \n",
    "- bubble down the at the index 1 to its proberposition\n",
    "- return max"
   ]
  },
  {
   "cell_type": "markdown",
   "metadata": {},
   "source": [
    "# Python Max Heap\n",
    "\n",
    "A max heap always bubbles the highest value to the top , so it can be removed instantly.\n",
    "\n",
    "Public functions : push , peek , pop\n",
    "    \n",
    "private functions  swap, __floatUp, __bubbleDown,  __str\n",
    "    "
   ]
  },
  {
   "cell_type": "code",
   "execution_count": 36,
   "metadata": {},
   "outputs": [],
   "source": [
    "class MaxHeap():\n",
    "    def __init__(self, items =[]):\n",
    "        super().__init__()\n",
    "        self.heap = [0]  # here we keep  zeo at zeroth index so our root node is in 1\n",
    "        for item in items:\n",
    "            self.heap.append(item)\n",
    "            self.__floatUp(len(self.heap)-1)\n",
    "        \n",
    "            \n",
    "    def push(self,data):\n",
    "        self.heap.append(data)\n",
    "        self.__floatUp(len(self.heap)-1)\n",
    "        \n",
    "    def peek(self):\n",
    "        if self.heap[1]:\n",
    "            return self.heap[1]\n",
    "        else :\n",
    "            return False\n",
    "        \n",
    "    def pop(self):\n",
    "        if len(self.heap)>2:\n",
    "            self.__swap(1,len(self.heap)-1)\n",
    "            max = self.heap.pop()\n",
    "            self.__bubbleDown(1)\n",
    "            \n",
    "        elif len(self.heap) == 2:\n",
    "            max = self.heap.pop()\n",
    "            self.__bubbleDown(1)\n",
    "        else:\n",
    "            max = False\n",
    "        return max\n",
    "            \n",
    "    def __swap(self , i,j):\n",
    "        self.heap[i],self.heap[j] = self.heap[j] , self.heap[i]\n",
    "        \n",
    "    def __floatUp(self , index):\n",
    "        parent = index//2\n",
    "        if index <= 1:\n",
    "            return\n",
    "        elif self.heap[index] > self.heap[parent]:\n",
    "            self.__swap(index,parent)\n",
    "            self.__floatUp(parent)\n",
    "            \n",
    "    def  __bubbleDown(self , index):\n",
    "        left = index*2\n",
    "        right = index*2 + 1\n",
    "        largest = index\n",
    "        if len(self.heap)> left and self.heap[largest] < self.heap[left]:\n",
    "            largest = left\n",
    "            \n",
    "        if len(self.heap)> right and self.heap[largest] < self.heap[right]:\n",
    "            largest = right\n",
    "            \n",
    "        if largest != index:\n",
    "            self.__swap(index, largest)\n",
    "            self.__bubbleDown(largest)\n",
    "            \n",
    "    def __str__(self):\n",
    "        return str(self.heap)\n",
    "    \n",
    "    def __type__(self):\n",
    "        return \"Max heaps\""
   ]
  },
  {
   "cell_type": "markdown",
   "metadata": {},
   "source": [
    "# Max heap test code"
   ]
  },
  {
   "cell_type": "code",
   "execution_count": 40,
   "metadata": {},
   "outputs": [],
   "source": [
    "m = MaxHeap([95,3,21])"
   ]
  },
  {
   "cell_type": "code",
   "execution_count": 41,
   "metadata": {},
   "outputs": [
    {
     "data": {
      "text/plain": [
       "__main__.MaxHeap"
      ]
     },
     "execution_count": 41,
     "metadata": {},
     "output_type": "execute_result"
    }
   ],
   "source": [
    "type(m)"
   ]
  },
  {
   "cell_type": "code",
   "execution_count": 42,
   "metadata": {},
   "outputs": [],
   "source": [
    "m.push(96)"
   ]
  },
  {
   "cell_type": "code",
   "execution_count": 43,
   "metadata": {},
   "outputs": [
    {
     "name": "stdout",
     "output_type": "stream",
     "text": [
      "96\n"
     ]
    }
   ],
   "source": [
    "print(m.peek())"
   ]
  },
  {
   "cell_type": "code",
   "execution_count": 44,
   "metadata": {},
   "outputs": [
    {
     "name": "stdout",
     "output_type": "stream",
     "text": [
      "96\n"
     ]
    }
   ],
   "source": [
    "print(m.pop())"
   ]
  },
  {
   "cell_type": "code",
   "execution_count": 45,
   "metadata": {},
   "outputs": [
    {
     "name": "stdout",
     "output_type": "stream",
     "text": [
      "95\n"
     ]
    }
   ],
   "source": [
    "print(m.peek())\n"
   ]
  },
  {
   "cell_type": "code",
   "execution_count": 46,
   "metadata": {},
   "outputs": [],
   "source": [
    "m.push(12)"
   ]
  },
  {
   "cell_type": "code",
   "execution_count": 47,
   "metadata": {},
   "outputs": [
    {
     "name": "stdout",
     "output_type": "stream",
     "text": [
      "95\n"
     ]
    }
   ],
   "source": [
    "print(m.peek())"
   ]
  },
  {
   "cell_type": "code",
   "execution_count": 48,
   "metadata": {},
   "outputs": [
    {
     "name": "stdout",
     "output_type": "stream",
     "text": [
      "[0, 95, 12, 21, 3]\n"
     ]
    }
   ],
   "source": [
    "print(m)"
   ]
  },
  {
   "cell_type": "code",
   "execution_count": 49,
   "metadata": {},
   "outputs": [],
   "source": [
    "m.push(60)\n",
    "m.push(1)\n",
    "m.push(80)"
   ]
  },
  {
   "cell_type": "code",
   "execution_count": 50,
   "metadata": {},
   "outputs": [
    {
     "name": "stdout",
     "output_type": "stream",
     "text": [
      "[0, 95, 60, 80, 3, 12, 1, 21]\n"
     ]
    }
   ],
   "source": [
    "print(m)"
   ]
  },
  {
   "cell_type": "code",
   "execution_count": null,
   "metadata": {},
   "outputs": [],
   "source": []
  }
 ],
 "metadata": {
  "kernelspec": {
   "display_name": "Python 3",
   "language": "python",
   "name": "python3"
  },
  "language_info": {
   "codemirror_mode": {
    "name": "ipython",
    "version": 3
   },
   "file_extension": ".py",
   "mimetype": "text/x-python",
   "name": "python",
   "nbconvert_exporter": "python",
   "pygments_lexer": "ipython3",
   "version": "3.7.4"
  }
 },
 "nbformat": 4,
 "nbformat_minor": 2
}
