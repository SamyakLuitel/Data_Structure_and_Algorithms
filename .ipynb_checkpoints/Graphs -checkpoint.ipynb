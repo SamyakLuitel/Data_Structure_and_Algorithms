{
 "cells": [
  {
   "cell_type": "markdown",
   "metadata": {},
   "source": [
    "# graphs \n",
    "A grpah is pictorial  representation of set of objects where some pair pf objects are connected by links . \n",
    "The interconnected objects are represented by points termed as vertices and the links that connect the vertices and the \n",
    "lnks that connect the verticies are called edges."
   ]
  },
  {
   "cell_type": "markdown",
   "metadata": {},
   "source": [
    "- formally a graph is a pair of sets (V,E) where V is the set of vertices and E is set of edge connecting the pairs of vertices."
   ]
  },
  {
   "cell_type": "markdown",
   "metadata": {},
   "source": [
    "## Undirected Graphs\n",
    "- relationships are 2 way\n",
    "- Used to model social or coputer networks"
   ]
  },
  {
   "cell_type": "markdown",
   "metadata": {},
   "source": [
    "## Directed Graphs \n",
    "- relationship are 1 way\n",
    "- used to model aiplane flights or bus routes."
   ]
  },
  {
   "cell_type": "markdown",
   "metadata": {},
   "source": [
    "## Adjacency Matrix \n",
    "- matrix of neighbours stored centrally in graph object"
   ]
  },
  {
   "cell_type": "markdown",
   "metadata": {},
   "source": [
    "## Adjacency list \n",
    "- list of neighbours stored in each vertex"
   ]
  },
  {
   "cell_type": "markdown",
   "metadata": {},
   "source": [
    "## Which is better ?\n",
    "\n",
    "## adjacency list \n",
    "- pro : Faster and use less space for Sparce graphs\n",
    "- Con: Slower for Dense graphs\n",
    "    \n",
    "## Adjacency Matrix\n",
    "- pro : Fater for Dense graphs \n",
    "- pro : Simpler for Weighted edges\n",
    "- con: uses more space"
   ]
  },
  {
   "cell_type": "markdown",
   "metadata": {},
   "source": [
    "# graph implementation using Ajacency List \n"
   ]
  },
  {
   "cell_type": "markdown",
   "metadata": {},
   "source": [
    "# vertex Class\n",
    "\n",
    "- The vertex class has a constructor that sets the name of the vertex (in our example, just a letter), and creates a new empty set to store neighbours.\n",
    "- The add_neighbour methos adds the name of a neighbouring vertex to the neighbours set .This set automatically eliminates duplicates "
   ]
  },
  {
   "cell_type": "code",
   "execution_count": 1,
   "metadata": {},
   "outputs": [],
   "source": [
    "class Vertex:\n",
    "    def __init__(self, n):\n",
    "        self.name = n\n",
    "        self.neighbours = set()\n",
    "        \n",
    "    def add_neighbour(self, v):\n",
    "        self.neighbours.add(v)"
   ]
  },
  {
   "cell_type": "markdown",
   "metadata": {},
   "source": [
    "# Graph Class\n",
    "- the graph class uses a dictionary to store verticies in the format , verticies_name:vertex_object\n",
    " \n",
    "- Adding a new vertex to the grph, we first check if the objects passed in is a vertex object , then we check if it already exists in the graph. If both checks pass, then we add the vertex to the graph's verticies dictionary.\n",
    "\n",
    "- When adding an edge , we receive two vertex names , we first check if both vertex names are valid, then we add each to the other's neighbours set.\n",
    "\n",
    "- to print the graph, we iterate through the vertices , and print each vertex name(thre key) followed by its sorted neighbours list .\n"
   ]
  },
  {
   "cell_type": "code",
   "execution_count": 30,
   "metadata": {},
   "outputs": [],
   "source": [
    "class Graph :\n",
    "    vertices = {}\n",
    "    \n",
    "    def add_vertex(self, vertex):\n",
    "        if isinstance(vertex, Vertex) and vertex.name not in self.vertices:\n",
    "            self.vertices[vertex.name] = vertex\n",
    "            return True \n",
    "        else :\n",
    "            return False\n",
    "        \n",
    "    \n",
    "        \n",
    "    def add_edge(self, u, v):\n",
    "        if u in self.vertices and v in self.vertices:\n",
    "            self.vertices[u].add_neighbour(v)\n",
    "            self.vertices[v].add_neighbour(u)\n",
    "            return True \n",
    "        else:\n",
    "            return False \n",
    "    def print_graph(self):\n",
    "        for key in sorted(list(self.vertices.keys())):\n",
    "            print(key, sorted(list(self.vertices[key].neighbours)))\n",
    "            \n",
    "        \n",
    "    "
   ]
  },
  {
   "cell_type": "markdown",
   "metadata": {},
   "source": [
    "# Test Code "
   ]
  },
  {
   "cell_type": "markdown",
   "metadata": {},
   "source": [
    "here we create a new Graph object . We create a new vertex named A .We add A to the graph.Then we add new vrtex B to the graph. then we iterate from A to K and add a bunch of vertices to the graph. Since the add_vertex method checks for duplicates, A and B are not added twice."
   ]
  },
  {
   "cell_type": "code",
   "execution_count": 31,
   "metadata": {},
   "outputs": [
    {
     "data": {
      "text/plain": [
       "True"
      ]
     },
     "execution_count": 31,
     "metadata": {},
     "output_type": "execute_result"
    }
   ],
   "source": [
    "g =Graph()\n",
    "a = Vertex(\"A\")\n",
    "g.add_vertex(a)"
   ]
  },
  {
   "cell_type": "code",
   "execution_count": 32,
   "metadata": {},
   "outputs": [],
   "source": [
    "g.add_vertex(Vertex(\"B\"))\n",
    "for i in range(ord(\"A\"), ord(\"K\")):\n",
    "    g.add_vertex(Vertex(chr(i)))"
   ]
  },
  {
   "cell_type": "markdown",
   "metadata": {},
   "source": [
    "- an ege consists of two vertex  here we iterate through a list of edges and each to the graph.\n",
    "- this print_graph method doesn't give a very good visualization of the graph , but it does show the neighbours for each vertex.\n"
   ]
  },
  {
   "cell_type": "code",
   "execution_count": 33,
   "metadata": {},
   "outputs": [
    {
     "name": "stdout",
     "output_type": "stream",
     "text": [
      "A ['B', 'E']\n",
      "B ['A', 'F']\n",
      "C ['G']\n",
      "D ['E', 'H']\n",
      "E ['A', 'D', 'H']\n",
      "F ['B', 'G', 'I', 'J']\n",
      "G ['C', 'F', 'J']\n",
      "H ['D', 'E', 'I']\n",
      "I ['F', 'H']\n",
      "J ['F', 'G']\n"
     ]
    }
   ],
   "source": [
    "edges = ['AB', 'AE', 'BF', 'CG', 'DE', 'DH', 'EH', 'FG', 'FI', 'FJ', 'GJ', 'HI']\n",
    "for edge in edges:\n",
    "    g.add_edge(edge[0], edge[1])\n",
    "\n",
    "g.print_graph()"
   ]
  },
  {
   "cell_type": "markdown",
   "metadata": {},
   "source": [
    " # Graphs Implementtion Using Adacency Matrix\n",
    "    for undirected greaphs , with weighted ir unweighted egdes"
   ]
  },
  {
   "cell_type": "markdown",
   "metadata": {},
   "source": [
    "# Vertex class\n",
    "A vertex object only needs to store its name."
   ]
  },
  {
   "cell_type": "code",
   "execution_count": 34,
   "metadata": {},
   "outputs": [],
   "source": [
    "class vertex:\n",
    "    def __init__(self, n):\n",
    "        self.name = n\n",
    "        "
   ]
  },
  {
   "cell_type": "markdown",
   "metadata": {},
   "source": [
    "# Graph Class\n",
    "A graph object has three attributes:\n",
    "- vertices - adictionary with vertex_name:vertex_object\n",
    "- egdes - a 2-dimensional list (ie a matrix) of edges for unweighted graph it will contain 0 for no edge and 1 for egde.\n",
    "- edge_indicies - a dictionart with vertex_name: list_index(eg A:0) to acess edges\n",
    "- add_vertex update all three of these attributes.\n",
    "- add_edge only needs to update the edges matrix."
   ]
  },
  {
   "cell_type": "code",
   "execution_count": 61,
   "metadata": {},
   "outputs": [],
   "source": [
    "class Graph :\n",
    "    vertices = {}\n",
    "    edges = []\n",
    "    edge_indices = {}\n",
    "    \n",
    "    def add_vertex(self, vertex):\n",
    "        if isinstance(vertex, Vertex) and vertex.name not in self.vertices:\n",
    "            self.vertices[vertex.name] = vertex\n",
    "            # for loop appends a clumn of zeros to the edges matrix \n",
    "            for row in self.edges:\n",
    "                row.append(0)\n",
    "            \n",
    "            # append a row of zeros to the  bottom of the edges matrix \n",
    "            self.edges.append ([0]*(len(self.edges)+1))\n",
    "            self.edge_indices[vertex.name]= len(self.edge_indices)\n",
    "            return True \n",
    "        else :\n",
    "            return False \n",
    "        \n",
    "    def add_edge (self, u , v, weight=1):\n",
    "        if u in self.vertices and v in self.vertices:\n",
    "            self.edges[self.edge_indices[u]][self.edge_indices[v]]=weight\n",
    "            self.edges[self.edge_indices[v]][self.edge_indices[u]]=weight \n",
    "            return True \n",
    "        else :\n",
    "            return False\n",
    "                       \n",
    "                       \n",
    "    def print_graph(self):\n",
    "        for v,i in sorted (self.edge_indices.items()):\n",
    "            print(v+ \" \",end= \" \")\n",
    "            for j in range(len(self.edges)):\n",
    "                print(self.edges[i][j], end=\" \")\n",
    "            print(' ')"
   ]
  },
  {
   "cell_type": "markdown",
   "metadata": {},
   "source": [
    "# Test Code"
   ]
  },
  {
   "cell_type": "code",
   "execution_count": 62,
   "metadata": {},
   "outputs": [],
   "source": [
    "g = Graph()\n",
    "a = Vertex('A')\n",
    "g.add_vertex(a)\n",
    "g.add_vertex(Vertex('B'))\n",
    "for i in range(ord('A'), ord('K')):\n",
    "    g.add_vertex(Vertex(chr(i)))\n"
   ]
  },
  {
   "cell_type": "code",
   "execution_count": 63,
   "metadata": {},
   "outputs": [
    {
     "name": "stdout",
     "output_type": "stream",
     "text": [
      "A  0 1 0 0 1 0 0 0 0 0  \n",
      "B  1 0 0 0 0 1 0 0 0 0  \n",
      "C  0 0 0 0 0 0 1 0 0 0  \n",
      "D  0 0 0 0 1 0 0 1 0 0  \n",
      "E  1 0 0 1 0 0 0 1 0 0  \n",
      "F  0 1 0 0 0 0 1 0 1 1  \n",
      "G  0 0 1 0 0 1 0 0 0 1  \n",
      "H  0 0 0 1 1 0 0 0 1 0  \n",
      "I  0 0 0 0 0 1 0 1 0 0  \n",
      "J  0 0 0 0 0 1 1 0 0 0  \n"
     ]
    }
   ],
   "source": [
    "edges = ['AB', 'AE', 'BF', 'CG', 'DE', 'DH', 'EH', 'FG', 'FI', 'FJ', 'GJ', 'HI']\n",
    "for edge in edges:\n",
    "    g.add_edge(edge[0], edge[1])\n",
    "\n",
    "g.print_graph()\n",
    "\n"
   ]
  },
  {
   "cell_type": "code",
   "execution_count": null,
   "metadata": {},
   "outputs": [],
   "source": []
  },
  {
   "cell_type": "code",
   "execution_count": null,
   "metadata": {},
   "outputs": [],
   "source": []
  }
 ],
 "metadata": {
  "kernelspec": {
   "display_name": "Python 3",
   "language": "python",
   "name": "python3"
  },
  "language_info": {
   "codemirror_mode": {
    "name": "ipython",
    "version": 3
   },
   "file_extension": ".py",
   "mimetype": "text/x-python",
   "name": "python",
   "nbconvert_exporter": "python",
   "pygments_lexer": "ipython3",
   "version": "3.7.6"
  }
 },
 "nbformat": 4,
 "nbformat_minor": 2
}
