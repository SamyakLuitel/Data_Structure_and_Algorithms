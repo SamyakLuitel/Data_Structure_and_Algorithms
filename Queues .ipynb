{
 "cells": [
  {
   "cell_type": "markdown",
   "metadata": {},
   "source": [
    "# queues (FIFO)\n",
    "- ## operations\n",
    "- Enqueue - add an item to the end of the line \n",
    "- Dequeue - remove an item from the front of the line \n",
    "### Queues are good for modeling anything you wait in line for .\n",
    "\n",
    "\n"
   ]
  },
  {
   "cell_type": "markdown",
   "metadata": {},
   "source": [
    "# queue using Python Deque \n",
    "- queue is a FIFO data structure \n",
    "- Deque is a double - ended queue , but we can use it for our queue.\n",
    "- We use append() to enqueue an item , and popleft() to dequeue an item "
   ]
  },
  {
   "cell_type": "code",
   "execution_count": 3,
   "metadata": {},
   "outputs": [
    {
     "name": "stdout",
     "output_type": "stream",
     "text": [
      "deque([5, 10])\n",
      "5\n"
     ]
    }
   ],
   "source": [
    "from collections import deque \n",
    "my_queue = deque()\n",
    "my_queue.append(5)\n",
    "my_queue.append(10)\n",
    "print(my_queue)\n",
    "print(my_queue.popleft())"
   ]
  },
  {
   "cell_type": "markdown",
   "metadata": {},
   "source": [
    "# Queue using Deque with wrapper Class\n"
   ]
  },
  {
   "cell_type": "code",
   "execution_count": 45,
   "metadata": {},
   "outputs": [],
   "source": [
    "class Queue():\n",
    "    from collections import deque\n",
    "    def __init__(self):\n",
    "        self.queue =deque()\n",
    "        \n",
    "    def enqueue(self,item):\n",
    "        self.queue.append(item)\n",
    "        \n",
    "        \n",
    "    def dequeue(self):\n",
    "        if len(self.queue)>0 :  \n",
    "            return  self.queue.popleft()\n",
    "        else :\n",
    "            return None \n",
    "    \n",
    "    def __str__(self):\n",
    "        return str(self.queue)\n",
    "   \n",
    "    def __len__(self):\n",
    "        return len(self.queue)\n",
    "    "
   ]
  },
  {
   "cell_type": "code",
   "execution_count": 46,
   "metadata": {},
   "outputs": [],
   "source": [
    "# test code "
   ]
  },
  {
   "cell_type": "code",
   "execution_count": 47,
   "metadata": {},
   "outputs": [],
   "source": [
    "my_queue = Queue()\n"
   ]
  },
  {
   "cell_type": "code",
   "execution_count": 48,
   "metadata": {},
   "outputs": [],
   "source": [
    "my_queue.enqueue(1)"
   ]
  },
  {
   "cell_type": "code",
   "execution_count": 49,
   "metadata": {},
   "outputs": [],
   "source": [
    "my_queue.enqueue(2)"
   ]
  },
  {
   "cell_type": "code",
   "execution_count": 50,
   "metadata": {},
   "outputs": [],
   "source": [
    "my_queue.enqueue(3)"
   ]
  },
  {
   "cell_type": "code",
   "execution_count": 51,
   "metadata": {},
   "outputs": [],
   "source": [
    "a=my_queue.dequeue()"
   ]
  },
  {
   "cell_type": "code",
   "execution_count": 52,
   "metadata": {},
   "outputs": [
    {
     "name": "stdout",
     "output_type": "stream",
     "text": [
      "deque([2, 3])\n"
     ]
    }
   ],
   "source": [
    "print(my_queue)"
   ]
  },
  {
   "cell_type": "code",
   "execution_count": 53,
   "metadata": {},
   "outputs": [
    {
     "name": "stdout",
     "output_type": "stream",
     "text": [
      "1\n"
     ]
    }
   ],
   "source": [
    "print(a)"
   ]
  },
  {
   "cell_type": "code",
   "execution_count": null,
   "metadata": {},
   "outputs": [],
   "source": []
  }
 ],
 "metadata": {
  "kernelspec": {
   "display_name": "Python 3",
   "language": "python",
   "name": "python3"
  },
  "language_info": {
   "codemirror_mode": {
    "name": "ipython",
    "version": 3
   },
   "file_extension": ".py",
   "mimetype": "text/x-python",
   "name": "python",
   "nbconvert_exporter": "python",
   "pygments_lexer": "ipython3",
   "version": "3.7.4"
  }
 },
 "nbformat": 4,
 "nbformat_minor": 2
}
