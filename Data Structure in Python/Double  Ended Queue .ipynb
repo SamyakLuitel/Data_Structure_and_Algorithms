{
 "cells": [
  {
   "cell_type": "markdown",
   "metadata": {},
   "source": [
    "A double-ended queue, or deque, supports adding and removing elements from either end. The more commonly used stacks and queues are degenerate forms of deques, where the inputs and outputs are restricted to a single end."
   ]
  },
  {
   "cell_type": "code",
   "execution_count": 3,
   "metadata": {},
   "outputs": [
    {
     "name": "stdout",
     "output_type": "stream",
     "text": [
      "Appended at right -\n",
      "deque(['Mon', 'Tue', 'Wed', 'Thus'])\n",
      "Append at right at left is - \n",
      "deque(['Sun', 'Mon', 'Tue', 'Wed', 'Thus'])\n"
     ]
    }
   ],
   "source": [
    "import collections \n",
    "DoubleEnded = collections.deque([\"Mon\",\"Tue\",\"Wed\"])\n",
    "DoubleEnded.append(\"Thus\")\n",
    "print(\"Appended at right -\")\n",
    "print(DoubleEnded)\n",
    "\n",
    "DoubleEnded.appendleft(\"Sun\")\n",
    "print(\"Append at right at left is - \")\n",
    "print(DoubleEnded)"
   ]
  },
  {
   "cell_type": "code",
   "execution_count": 4,
   "metadata": {},
   "outputs": [
    {
     "data": {
      "text/plain": [
       "'Thus'"
      ]
     },
     "execution_count": 4,
     "metadata": {},
     "output_type": "execute_result"
    }
   ],
   "source": [
    "DoubleEnded.pop()"
   ]
  },
  {
   "cell_type": "code",
   "execution_count": 6,
   "metadata": {},
   "outputs": [
    {
     "name": "stdout",
     "output_type": "stream",
     "text": [
      "Deleting from the right \n",
      "deque(['Sun', 'Mon', 'Tue', 'Wed'])\n"
     ]
    }
   ],
   "source": [
    "print(\"Deleting from the right \")\n",
    "print(DoubleEnded)"
   ]
  },
  {
   "cell_type": "code",
   "execution_count": 7,
   "metadata": {},
   "outputs": [
    {
     "name": "stdout",
     "output_type": "stream",
     "text": [
      "Deleting from the left \n",
      "deque(['Mon', 'Tue', 'Wed'])\n"
     ]
    }
   ],
   "source": [
    "DoubleEnded.popleft()\n",
    "print(\"Deleting from the left \")\n",
    "print(DoubleEnded)"
   ]
  },
  {
   "cell_type": "code",
   "execution_count": null,
   "metadata": {},
   "outputs": [],
   "source": []
  }
 ],
 "metadata": {
  "kernelspec": {
   "display_name": "Python 3",
   "language": "python",
   "name": "python3"
  },
  "language_info": {
   "codemirror_mode": {
    "name": "ipython",
    "version": 3
   },
   "file_extension": ".py",
   "mimetype": "text/x-python",
   "name": "python",
   "nbconvert_exporter": "python",
   "pygments_lexer": "ipython3",
   "version": "3.7.6"
  }
 },
 "nbformat": 4,
 "nbformat_minor": 4
}
