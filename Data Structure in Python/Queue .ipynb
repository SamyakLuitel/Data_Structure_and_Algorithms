{
 "cells": [
  {
   "cell_type": "markdown",
   "metadata": {},
   "source": [
    "# FIFO Data Structure "
   ]
  },
  {
   "cell_type": "code",
   "execution_count": 1,
   "metadata": {},
   "outputs": [],
   "source": [
    "#Adding element to the queue \n",
    "class Queue:\n",
    "    def __init__(self):\n",
    "        self.queue = list()\n",
    "        \n",
    "    def addtoq(self,dataval):\n",
    "        if dataval not in self.queue:\n",
    "            self.queue.insert(0,dataval)\n",
    "            return True \n",
    "        else :\n",
    "            return False\n",
    "        \n",
    "    def size(self):\n",
    "        return len(self.queue)"
   ]
  },
  {
   "cell_type": "code",
   "execution_count": 4,
   "metadata": {},
   "outputs": [
    {
     "name": "stdout",
     "output_type": "stream",
     "text": [
      "5\n"
     ]
    }
   ],
   "source": [
    "TheQueue = Queue()\n",
    "TheQueue.addtoq(\"MON\")\n",
    "TheQueue.addtoq(\"tue\")\n",
    "TheQueue.addtoq(\"wed\")\n",
    "TheQueue.addtoq(\"thus\")\n",
    "TheQueue.addtoq(\"fri\")\n",
    "print(TheQueue.size())\n"
   ]
  },
  {
   "cell_type": "code",
   "execution_count": 8,
   "metadata": {},
   "outputs": [],
   "source": [
    "# Removing Element from the Queue \n",
    "class Queue:\n",
    "    def __init__(self):\n",
    "        self.queue  = list()\n",
    "        \n",
    "    def addtoq(self,dataval):\n",
    "        if dataval not in self.queue:\n",
    "            self.queue.insert(0, dataval)\n",
    "            return True \n",
    "        else:\n",
    "            return False\n",
    "        \n",
    "        \n",
    "    def removefromq(self):\n",
    "        if len(self.queue)> 0:\n",
    "            return self.queue.pop()\n",
    "        return (\"No elements in Queue\")\n",
    "    \n",
    "    "
   ]
  },
  {
   "cell_type": "code",
   "execution_count": 9,
   "metadata": {},
   "outputs": [
    {
     "name": "stdout",
     "output_type": "stream",
     "text": [
      "Mon\n",
      "Tue\n"
     ]
    }
   ],
   "source": [
    "TheQueue = Queue()\n",
    "TheQueue.addtoq(\"Mon\")\n",
    "TheQueue.addtoq(\"Tue\")\n",
    "TheQueue.addtoq(\"Wed\")\n",
    "print(TheQueue.removefromq())\n",
    "print(TheQueue.removefromq())"
   ]
  },
  {
   "cell_type": "code",
   "execution_count": null,
   "metadata": {},
   "outputs": [],
   "source": []
  }
 ],
 "metadata": {
  "kernelspec": {
   "display_name": "Python 3",
   "language": "python",
   "name": "python3"
  },
  "language_info": {
   "codemirror_mode": {
    "name": "ipython",
    "version": 3
   },
   "file_extension": ".py",
   "mimetype": "text/x-python",
   "name": "python",
   "nbconvert_exporter": "python",
   "pygments_lexer": "ipython3",
   "version": "3.7.6"
  }
 },
 "nbformat": 4,
 "nbformat_minor": 4
}
