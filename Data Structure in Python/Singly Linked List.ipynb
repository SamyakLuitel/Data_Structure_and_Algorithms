{
 "cells": [
  {
   "cell_type": "code",
   "execution_count": 8,
   "metadata": {},
   "outputs": [],
   "source": [
    "#Creation of linked list \n",
    "class Node:\n",
    "    def __init__(self, dataval=None ):\n",
    "        self.dataval=dataval\n",
    "        self.nextval = None \n",
    "    \n",
    "class SLinkedList:\n",
    "    def __init__(self):\n",
    "        self.headval =None\n",
    "        \n",
    "linkedList =SLinkedList()\n",
    "linkedList.headval = Node(\"Mon\")\n",
    "e2 = Node(\"Tue\")\n",
    "e3 =  Node(\"Wed\")\n",
    "# linked first Node to second node \n",
    "linkedlist.headval.nextval = e2\n",
    "e2.nextval=e3"
   ]
  },
  {
   "cell_type": "code",
   "execution_count": 9,
   "metadata": {},
   "outputs": [],
   "source": [
    "#trvaersing through linked list \n",
    "class Node:\n",
    "    def __init__(self,dataval=None):\n",
    "        self.dataval = dataval \n",
    "        self.nextval =None \n",
    "\n",
    "class SLinkedList:\n",
    "    def __init__(self):\n",
    "        self.headval =None  \n",
    "        \n",
    "    def listprint(self):\n",
    "        printval = self.headval\n",
    "        while printval is not None:\n",
    "            print(printval.dataval)\n",
    "            printval = printval.nextval\n",
    "            \n"
   ]
  },
  {
   "cell_type": "code",
   "execution_count": 10,
   "metadata": {},
   "outputs": [],
   "source": [
    "linkedlist = SLinkedList()\n",
    "linkedlist.headval =Node(\"Mon\")\n",
    "e2 =Node(\"Tue\")\n",
    "e3=Node(\"Wed\")\n",
    "\n",
    "#linked first Node to second  node \n",
    "\n",
    "linkedlist.headval.nextval= e2\n",
    "e2.nextval = e3\n"
   ]
  },
  {
   "cell_type": "code",
   "execution_count": 11,
   "metadata": {},
   "outputs": [
    {
     "name": "stdout",
     "output_type": "stream",
     "text": [
      "Mon\n",
      "Tue\n",
      "Wed\n"
     ]
    }
   ],
   "source": [
    "linkedlist.listprint()"
   ]
  },
  {
   "cell_type": "code",
   "execution_count": 12,
   "metadata": {},
   "outputs": [],
   "source": [
    "#insertion at the begining \n",
    "class Node:\n",
    "    def __init__(self,dataval=None):\n",
    "        self.dataval=dataval\n",
    "        self.nextval =None \n",
    "        \n",
    "class SLinkedList:\n",
    "    def __init__ (self):\n",
    "        self.headval=None\n",
    "        \n",
    "#Print the linked list \n",
    "    def listprint(self):\n",
    "        printval = self.headval\n",
    "        while printval is not None :\n",
    "            print(printval.dataval)\n",
    "            printval = printval.nextval\n",
    "            \n",
    "    def AtBegining(self,newdata):\n",
    "        NewNode= Node(newdata)\n",
    "        \n",
    "        #updating the new nodes next val to existing node \n",
    "        NewNode.nextval= self.headval\n",
    "        self.headval = NewNode \n",
    "        \n",
    "    "
   ]
  },
  {
   "cell_type": "code",
   "execution_count": 15,
   "metadata": {},
   "outputs": [
    {
     "name": "stdout",
     "output_type": "stream",
     "text": [
      "sun\n",
      "Mon\n",
      "Tue\n",
      "Wed\n"
     ]
    }
   ],
   "source": [
    "linkedlist = SLinkedList()\n",
    "linkedlist.headval =Node(\"Mon\")\n",
    "e2=Node(\"Tue\")\n",
    "e3=Node(\"Wed\")\n",
    "linkedlist.headval.nextval = e2\n",
    "e2.nextval=e3\n",
    "linkedlist.AtBegining(\"sun\")\n",
    "linkedlist.listprint()"
   ]
  },
  {
   "cell_type": "code",
   "execution_count": 21,
   "metadata": {},
   "outputs": [],
   "source": [
    "class Node:\n",
    "    def __init__(self,dataval =None):\n",
    "        self.dataval = dataval\n",
    "        self.nextval = None\n",
    "        \n",
    "class SLinkedList():\n",
    "    def __init__(self):\n",
    "        self.headval = None \n",
    "        \n",
    "    def AtEnd(self, newdata):\n",
    "        NewNode=Node(newdata)\n",
    "        if self.headval is None:\n",
    "            self.headval = NewNode\n",
    "            return \n",
    "        laste = self.headval\n",
    "        while(laste.nextval):\n",
    "            laste = laste.nextval\n",
    "        laste.nextval=NewNode\n",
    "        \n",
    "        \n",
    "    def listprint(self):\n",
    "        printval = self.headval\n",
    "        while printval is not None:\n",
    "            print(printval.dataval)\n",
    "            printval = printval.nextval\n",
    "            \n",
    "            "
   ]
  },
  {
   "cell_type": "code",
   "execution_count": 22,
   "metadata": {},
   "outputs": [
    {
     "name": "stdout",
     "output_type": "stream",
     "text": [
      "Mon\n",
      "Tue\n",
      "Wed\n",
      "thus\n"
     ]
    }
   ],
   "source": [
    "linkedlist = SLinkedList()\n",
    "linkedlist.headval=Node(\"Mon\")\n",
    "e2=Node(\"Tue\")\n",
    "e3 =Node(\"Wed\")\n",
    "\n",
    "linkedlist.headval.nextval = e2\n",
    "e2.nextval = e3\n",
    "linkedlist.AtEnd(\"thus\")\n",
    "linkedlist.listprint()"
   ]
  },
  {
   "cell_type": "code",
   "execution_count": 36,
   "metadata": {},
   "outputs": [
    {
     "name": "stdout",
     "output_type": "stream",
     "text": [
      "Mon\n",
      "Tue\n",
      "Thus\n"
     ]
    }
   ],
   "source": [
    "#inserting in between two data nodes\n",
    "class Node:\n",
    "    def __init__(self, dataval = None ):\n",
    "        self.dataval = dataval\n",
    "        self.nextval = None \n",
    "class SlinkedList:\n",
    "    def __init__(self):\n",
    "        self.headval=None \n",
    "        \n",
    "    def InBetween(self,middle_node,newdata):\n",
    "        if middle_node is None:\n",
    "            print(\"The mentioned node is absent\")\n",
    "            return \n",
    "        NewNode = Node(newdata)\n",
    "        NewNode.nextval = middle_node.nextval\n",
    "        middle_node.nextval = NewNode\n",
    "   \n",
    "\n",
    "        \n",
    "    #Print the linked list \n",
    "    def listprint(self):\n",
    "        printval = self.headval\n",
    "        while printval is not None:\n",
    "            print(printval.dataval)\n",
    "            printval =printval.nextval\n",
    "            \n",
    "            \n",
    "linkedlist = SlinkedList()\n",
    "linkedlist.headval = Node(\"Mon\")\n",
    "e2 = Node(\"Tue\")\n",
    "e3 = Node(\"Thus\")\n",
    "\n",
    "linkedlist.headval.nextval = e2\n",
    "e2.nextval = e3\n",
    "linkedlist.listprint()\n"
   ]
  },
  {
   "cell_type": "code",
   "execution_count": 37,
   "metadata": {},
   "outputs": [
    {
     "name": "stdout",
     "output_type": "stream",
     "text": [
      "Mon\n",
      "Tue\n",
      "Fri\n",
      "Thus\n"
     ]
    }
   ],
   "source": [
    "linkedlist.InBetween(linkedlist.headval.nextval,\"Fri\")\n",
    "linkedlist.listprint()"
   ]
  },
  {
   "cell_type": "code",
   "execution_count": 11,
   "metadata": {},
   "outputs": [],
   "source": [
    "#Removing an Item from a Linked List \n",
    "class Node:\n",
    "    def __init__(self,data=None):\n",
    "        self.data=data\n",
    "        self.next = None\n",
    "        \n",
    "class SLinkedList:\n",
    "    def __init__(self):\n",
    "        self.head =None\n",
    "        \n",
    "    def Atbegining(self, data_in):\n",
    "        NewNode = Node(data_in)\n",
    "        NewNode.next = self.head\n",
    "        self.head = NewNode\n",
    "        \n",
    "        \n",
    "#Function to remove node \n",
    "    def RemoveNode(self, RemoveKey):\n",
    "        HeadVal = self.head\n",
    "        \n",
    "        if (HeadVal is not None):\n",
    "            if (HeadVal.data == RemoveKey):\n",
    "                self.head = HeadVal.next\n",
    "                HeadVal = None \n",
    "                return \n",
    "            \n",
    "        while (HeadVal is not None):\n",
    "            if HeadVal.data == RemoveKey:\n",
    "                break\n",
    "            prev = HeadVal \n",
    "            HeadVal = HeadVal.next\n",
    "\n",
    "        if (HeadVal == None):\n",
    "            return \n",
    "\n",
    "        prev.next = HeadVal.next\n",
    "        headVal = None \n",
    "\n",
    "        \n",
    "    def LListPrint(self):\n",
    "        printval = self.head\n",
    "        while (printval):\n",
    "            print(printval.data)\n",
    "            printval = printval.next\n",
    "            \n",
    "        "
   ]
  },
  {
   "cell_type": "code",
   "execution_count": 13,
   "metadata": {},
   "outputs": [
    {
     "name": "stdout",
     "output_type": "stream",
     "text": [
      "Thu\n",
      "Wed\n",
      "Mon\n"
     ]
    }
   ],
   "source": [
    "\n",
    "llist = SLinkedList()\n",
    "llist.Atbegining(\"Mon\")\n",
    "llist.Atbegining(\"Tue\")\n",
    "llist.Atbegining(\"Wed\")\n",
    "llist.Atbegining(\"Thu\")\n",
    "llist.RemoveNode(\"Tue\")\n",
    "llist.LListPrint()"
   ]
  },
  {
   "cell_type": "code",
   "execution_count": null,
   "metadata": {},
   "outputs": [],
   "source": []
  }
 ],
 "metadata": {
  "kernelspec": {
   "display_name": "Python 3",
   "language": "python",
   "name": "python3"
  },
  "language_info": {
   "codemirror_mode": {
    "name": "ipython",
    "version": 3
   },
   "file_extension": ".py",
   "mimetype": "text/x-python",
   "name": "python",
   "nbconvert_exporter": "python",
   "pygments_lexer": "ipython3",
   "version": "3.7.6"
  }
 },
 "nbformat": 4,
 "nbformat_minor": 4
}
