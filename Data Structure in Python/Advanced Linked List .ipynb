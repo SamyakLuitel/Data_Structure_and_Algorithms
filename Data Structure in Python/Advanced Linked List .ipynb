{
 "cells": [
  {
   "cell_type": "code",
   "execution_count": 4,
   "metadata": {},
   "outputs": [],
   "source": [
    "class Node:\n",
    "    def __init__(self,data):\n",
    "        self.data = data\n",
    "        self.next = None \n",
    "        self.prev = None \n",
    "        \n",
    "class DoublyLinkedList:\n",
    "    def __init__(self):\n",
    "        self.head = None \n",
    "        \n",
    "    #Adding data elements \n",
    "    def push(self,NewVal):\n",
    "        NewNode = Node(NewVal)\n",
    "        NewNode.next= self.head\n",
    "        if self.head is not None :\n",
    "            self.head.prev = NewNode\n",
    "        self.head =NewNode\n",
    "        \n",
    "        \n",
    "    #print the Doubly linked list \n",
    "    def listprint(self, node):\n",
    "        while (node is not None):\n",
    "            print(node.data)\n",
    "            last = node\n",
    "            node = node.next\n",
    "            \n",
    "    def printAll(self):\n",
    "        node =self.head\n",
    "        while (node is not None ):\n",
    "            print(node.data)\n",
    "            node=node.next"
   ]
  },
  {
   "cell_type": "code",
   "execution_count": 5,
   "metadata": {},
   "outputs": [
    {
     "name": "stdout",
     "output_type": "stream",
     "text": [
      "165\n",
      "54\n",
      "2\n",
      "143\n",
      "12\n"
     ]
    }
   ],
   "source": [
    "dllist = DoublyLinkedList()\n",
    "dllist.push(12)\n",
    "dllist.push(143)\n",
    "dllist.push(2)\n",
    "dllist.push(54)\n",
    "dllist.push(165)\n",
    "dllist.printAll()"
   ]
  },
  {
   "cell_type": "code",
   "execution_count": 9,
   "metadata": {},
   "outputs": [
    {
     "name": "stdout",
     "output_type": "stream",
     "text": [
      "2\n",
      "143\n",
      "12\n"
     ]
    }
   ],
   "source": [
    "dllist.listprint(dllist.head.next.next)"
   ]
  },
  {
   "cell_type": "code",
   "execution_count": 22,
   "metadata": {},
   "outputs": [],
   "source": [
    "#inseritng to Doubly Linked List \n",
    "class Node:\n",
    "    def __init__(self,data):\n",
    "        self.data = data \n",
    "        self.next = None \n",
    "        self.prev = None \n",
    "        \n",
    "\n",
    "class DoublyLinkedList:\n",
    "    def __init__ (self):\n",
    "        self.head = None \n",
    "        \n",
    "        \n",
    "    def push(self, NewVal):\n",
    "        NewNode = Node(NewVal)\n",
    "        NewNode.next = self.head\n",
    "        if (self.head is not None):\n",
    "            self.head.prev = NewNode\n",
    "            \n",
    "        self.head = NewNode\n",
    "        \n",
    "        \n",
    "        \n",
    "    def insert(self, prev_node, NewVal):\n",
    "        if prev_node is None:\n",
    "            return \n",
    "        NewNode = Node(NewVal)\n",
    "        NewNode.next = prev_node.next \n",
    "        prev_node.next = NewNode\n",
    "        NewNode.prev = prev_node\n",
    "        if NewNode.next is not None:\n",
    "            NewNode.next.prev = NewNode\n",
    "            \n",
    "            \n",
    "            \n",
    "    def listprint(self,node):\n",
    "        while (node is not None):\n",
    "            print(node.data)\n",
    "            last = node \n",
    "            node= node.next\n",
    "            \n",
    "            \n",
    "    def printAll(self):\n",
    "        node = self.head\n",
    "        while (node is not None):\n",
    "            print(node.data)\n",
    "            node = node.next"
   ]
  },
  {
   "cell_type": "code",
   "execution_count": 23,
   "metadata": {},
   "outputs": [
    {
     "name": "stdout",
     "output_type": "stream",
     "text": [
      "62\n",
      "8\n",
      "13\n",
      "12\n"
     ]
    }
   ],
   "source": [
    "dllist = DoublyLinkedList()\n",
    "dllist.push(12)\n",
    "dllist.push(8)\n",
    "dllist.push(62)\n",
    "dllist.insert(dllist.head.next, 13)\n",
    "dllist.listprint(dllist.head)"
   ]
  },
  {
   "cell_type": "code",
   "execution_count": 24,
   "metadata": {},
   "outputs": [
    {
     "name": "stdout",
     "output_type": "stream",
     "text": [
      "62\n",
      "8\n",
      "13\n",
      "12\n"
     ]
    }
   ],
   "source": [
    "dllist.printAll()"
   ]
  },
  {
   "cell_type": "code",
   "execution_count": 32,
   "metadata": {},
   "outputs": [],
   "source": [
    "#Appending to a Doubly Linked List \n",
    "class Node:\n",
    "    def __init__ (self, data):\n",
    "        self.data = data \n",
    "        self.next = None \n",
    "        self.prev = None \n",
    "        \n",
    "class DoublyLinkedList:\n",
    "    def __init__ (self):\n",
    "        self.head = None \n",
    "        \n",
    "    def push(self, Newval):\n",
    "        NewNode = Node(Newval)\n",
    "        NewNode.next = self.head \n",
    "        if self.head is not None:\n",
    "            self.head.prev = NewNode\n",
    "        self.head = NewNode\n",
    "        \n",
    "        \n",
    "    def append(self,NewVal):\n",
    "        NewNode = Node(NewVal)\n",
    "        NewNode.next = None \n",
    "        if self.head is None: \n",
    "            NerNode.prev = None \n",
    "            self.head = NewNode\n",
    "            return \n",
    "        last = self.head \n",
    "        while (last.next is not None ):\n",
    "            last = last.next\n",
    "        last.next = NewNode \n",
    "        NewNode.prev = last \n",
    "        return \n",
    "    \n",
    "    def listprint(self, node):\n",
    "        while (node is not None):\n",
    "            print(node.data)\n",
    "            last =node \n",
    "            node = node.next\n",
    "            \n",
    "\n",
    "            \n",
    "    def printAll(self):\n",
    "        node = self.head\n",
    "        while (node is not None):\n",
    "            print(node.data)\n",
    "            node = node.next"
   ]
  },
  {
   "cell_type": "code",
   "execution_count": 33,
   "metadata": {},
   "outputs": [
    {
     "name": "stdout",
     "output_type": "stream",
     "text": [
      "62\n",
      "8\n",
      "12\n",
      "9\n",
      "45\n"
     ]
    }
   ],
   "source": [
    "dllist = DoublyLinkedList()\n",
    "dllist.push(12)\n",
    "dllist.append(9)\n",
    "dllist.push(8)\n",
    "dllist.push(62)\n",
    "dllist.append(45)\n",
    "dllist.listprint(dllist.head)"
   ]
  },
  {
   "cell_type": "code",
   "execution_count": 34,
   "metadata": {},
   "outputs": [
    {
     "name": "stdout",
     "output_type": "stream",
     "text": [
      "62\n",
      "8\n",
      "12\n",
      "9\n",
      "45\n"
     ]
    }
   ],
   "source": [
    "dllist.printAll()"
   ]
  },
  {
   "cell_type": "code",
   "execution_count": null,
   "metadata": {},
   "outputs": [],
   "source": []
  }
 ],
 "metadata": {
  "kernelspec": {
   "display_name": "Python 3",
   "language": "python",
   "name": "python3"
  },
  "language_info": {
   "codemirror_mode": {
    "name": "ipython",
    "version": 3
   },
   "file_extension": ".py",
   "mimetype": "text/x-python",
   "name": "python",
   "nbconvert_exporter": "python",
   "pygments_lexer": "ipython3",
   "version": "3.7.6"
  }
 },
 "nbformat": 4,
 "nbformat_minor": 4
}
