{
 "cells": [
  {
   "cell_type": "markdown",
   "metadata": {},
   "source": [
    "# LIFO Data Sturcture "
   ]
  },
  {
   "cell_type": "code",
   "execution_count": 9,
   "metadata": {},
   "outputs": [],
   "source": [
    "#PUSH into the Stack\n",
    "class Stack:\n",
    "    def __init__(self):\n",
    "        self.stack = []\n",
    "        \n",
    "    def push(self, dataval):\n",
    "        # using list append  method to add element \n",
    "        if dataval not in self.stack:\n",
    "            self.stack.append(dataval)\n",
    "            return True \n",
    "        else:\n",
    "            return False\n",
    "        \n",
    "    def peek(self):\n",
    "        return self.stack[-1]\n",
    "    \n",
    "        "
   ]
  },
  {
   "cell_type": "code",
   "execution_count": 12,
   "metadata": {},
   "outputs": [
    {
     "data": {
      "text/plain": [
       "'tue'"
      ]
     },
     "execution_count": 12,
     "metadata": {},
     "output_type": "execute_result"
    }
   ],
   "source": [
    "AStack = Stack()\n",
    "AStack.push(\"mon\")\n",
    "AStack.push(\"tue\")\n",
    "AStack.peek()\n"
   ]
  },
  {
   "cell_type": "code",
   "execution_count": 13,
   "metadata": {},
   "outputs": [
    {
     "data": {
      "text/plain": [
       "'Thus'"
      ]
     },
     "execution_count": 13,
     "metadata": {},
     "output_type": "execute_result"
    }
   ],
   "source": [
    "AStack.push(\"wed\")\n",
    "AStack.push(\"Thus\")\n",
    "AStack.peek()\n"
   ]
  },
  {
   "cell_type": "code",
   "execution_count": 16,
   "metadata": {},
   "outputs": [],
   "source": [
    "#POP from Stack \n",
    "class Stack:\n",
    "    def __init__ (self):\n",
    "        self.stack =[]\n",
    "        \n",
    "    def push(self, dataval):\n",
    "        if dataval not in self.stack:\n",
    "            self.stack.append(dataval)\n",
    "            return True \n",
    "        else :\n",
    "            return False\n",
    "        \n",
    "        \n",
    "    def peek(self):\n",
    "        return self.stack[-1]\n",
    "    \n",
    "    def POP(self):\n",
    "        if len(self.stack) <= 0:\n",
    "            return(\"No element in the Stack\")\n",
    "        else:\n",
    "            return self.stack.pop()\n",
    "        \n",
    "        "
   ]
  },
  {
   "cell_type": "code",
   "execution_count": 17,
   "metadata": {},
   "outputs": [
    {
     "name": "stdout",
     "output_type": "stream",
     "text": [
      "Fri\n",
      "Thus\n"
     ]
    }
   ],
   "source": [
    "AStack = Stack()\n",
    "AStack.push(\"Mon\")\n",
    "AStack.push(\"Tue\")\n",
    "AStack.push(\"Wed\")\n",
    "AStack.push(\"Thus\")\n",
    "AStack.push(\"Fri\")\n",
    "print(AStack.POP())\n",
    "print(AStack.POP())"
   ]
  },
  {
   "cell_type": "code",
   "execution_count": null,
   "metadata": {},
   "outputs": [],
   "source": []
  }
 ],
 "metadata": {
  "kernelspec": {
   "display_name": "Python 3",
   "language": "python",
   "name": "python3"
  },
  "language_info": {
   "codemirror_mode": {
    "name": "ipython",
    "version": 3
   },
   "file_extension": ".py",
   "mimetype": "text/x-python",
   "name": "python",
   "nbconvert_exporter": "python",
   "pygments_lexer": "ipython3",
   "version": "3.7.6"
  }
 },
 "nbformat": 4,
 "nbformat_minor": 4
}
